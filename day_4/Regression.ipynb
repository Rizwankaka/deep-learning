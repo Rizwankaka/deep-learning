{
 "cells": [
  {
   "attachments": {},
   "cell_type": "markdown",
   "metadata": {},
   "source": [
    "# **Regression in DL with TensorFlow**"
   ]
  },
  {
   "cell_type": "code",
   "execution_count": 1,
   "metadata": {},
   "outputs": [
    {
     "name": "stdout",
     "output_type": "stream",
     "text": [
      "TensorFlow: 2.12.0\n"
     ]
    }
   ],
   "source": [
    "# find tensorflow version \n",
    "import tensorflow as tf\n",
    "print('TensorFlow:', tf.__version__)"
   ]
  },
  {
   "cell_type": "code",
   "execution_count": 2,
   "metadata": {},
   "outputs": [],
   "source": [
    "# import libraries \n",
    "import pandas as pd\n",
    "import numpy as np\n",
    "import matplotlib.pyplot as plt\n",
    "import seaborn as sns\n",
    "import tensorflow as tf \n",
    "from sklearn.model_selection import train_test_split\n",
    "from sklearn.preprocessing import StandardScaler, LabelEncoder"
   ]
  },
  {
   "cell_type": "code",
   "execution_count": 3,
   "metadata": {},
   "outputs": [
    {
     "data": {
      "text/html": [
       "<div>\n",
       "<style scoped>\n",
       "    .dataframe tbody tr th:only-of-type {\n",
       "        vertical-align: middle;\n",
       "    }\n",
       "\n",
       "    .dataframe tbody tr th {\n",
       "        vertical-align: top;\n",
       "    }\n",
       "\n",
       "    .dataframe thead th {\n",
       "        text-align: right;\n",
       "    }\n",
       "</style>\n",
       "<table border=\"1\" class=\"dataframe\">\n",
       "  <thead>\n",
       "    <tr style=\"text-align: right;\">\n",
       "      <th></th>\n",
       "      <th>carat</th>\n",
       "      <th>cut</th>\n",
       "      <th>color</th>\n",
       "      <th>clarity</th>\n",
       "      <th>depth</th>\n",
       "      <th>table</th>\n",
       "      <th>price</th>\n",
       "      <th>x</th>\n",
       "      <th>y</th>\n",
       "      <th>z</th>\n",
       "    </tr>\n",
       "  </thead>\n",
       "  <tbody>\n",
       "    <tr>\n",
       "      <th>0</th>\n",
       "      <td>0.23</td>\n",
       "      <td>Ideal</td>\n",
       "      <td>E</td>\n",
       "      <td>SI2</td>\n",
       "      <td>61.5</td>\n",
       "      <td>55.0</td>\n",
       "      <td>326</td>\n",
       "      <td>3.95</td>\n",
       "      <td>3.98</td>\n",
       "      <td>2.43</td>\n",
       "    </tr>\n",
       "    <tr>\n",
       "      <th>1</th>\n",
       "      <td>0.21</td>\n",
       "      <td>Premium</td>\n",
       "      <td>E</td>\n",
       "      <td>SI1</td>\n",
       "      <td>59.8</td>\n",
       "      <td>61.0</td>\n",
       "      <td>326</td>\n",
       "      <td>3.89</td>\n",
       "      <td>3.84</td>\n",
       "      <td>2.31</td>\n",
       "    </tr>\n",
       "    <tr>\n",
       "      <th>2</th>\n",
       "      <td>0.23</td>\n",
       "      <td>Good</td>\n",
       "      <td>E</td>\n",
       "      <td>VS1</td>\n",
       "      <td>56.9</td>\n",
       "      <td>65.0</td>\n",
       "      <td>327</td>\n",
       "      <td>4.05</td>\n",
       "      <td>4.07</td>\n",
       "      <td>2.31</td>\n",
       "    </tr>\n",
       "    <tr>\n",
       "      <th>3</th>\n",
       "      <td>0.29</td>\n",
       "      <td>Premium</td>\n",
       "      <td>I</td>\n",
       "      <td>VS2</td>\n",
       "      <td>62.4</td>\n",
       "      <td>58.0</td>\n",
       "      <td>334</td>\n",
       "      <td>4.20</td>\n",
       "      <td>4.23</td>\n",
       "      <td>2.63</td>\n",
       "    </tr>\n",
       "    <tr>\n",
       "      <th>4</th>\n",
       "      <td>0.31</td>\n",
       "      <td>Good</td>\n",
       "      <td>J</td>\n",
       "      <td>SI2</td>\n",
       "      <td>63.3</td>\n",
       "      <td>58.0</td>\n",
       "      <td>335</td>\n",
       "      <td>4.34</td>\n",
       "      <td>4.35</td>\n",
       "      <td>2.75</td>\n",
       "    </tr>\n",
       "  </tbody>\n",
       "</table>\n",
       "</div>"
      ],
      "text/plain": [
       "   carat      cut color clarity  depth  table  price     x     y     z\n",
       "0   0.23    Ideal     E     SI2   61.5   55.0    326  3.95  3.98  2.43\n",
       "1   0.21  Premium     E     SI1   59.8   61.0    326  3.89  3.84  2.31\n",
       "2   0.23     Good     E     VS1   56.9   65.0    327  4.05  4.07  2.31\n",
       "3   0.29  Premium     I     VS2   62.4   58.0    334  4.20  4.23  2.63\n",
       "4   0.31     Good     J     SI2   63.3   58.0    335  4.34  4.35  2.75"
      ]
     },
     "execution_count": 3,
     "metadata": {},
     "output_type": "execute_result"
    }
   ],
   "source": [
    "# Load the diamonds dataset \n",
    "df= sns.load_dataset('diamonds')\n",
    "df.head()"
   ]
  },
  {
   "cell_type": "code",
   "execution_count": 5,
   "metadata": {},
   "outputs": [],
   "source": [
    "# preprocessing \n",
    "X=df.drop('price', axis=1)\n",
    "y=df['price']\n",
    "\n",
    "# encode the categorical variables \n",
    "le = LabelEncoder()\n",
    "X['cut'] = le.fit_transform(X['cut'])\n",
    "X['color'] = le.fit_transform(X['color'])\n",
    "X['clarity'] = le.fit_transform(X['clarity'])\n",
    "\n",
    "# split the data into train and test\n",
    "X_train, X_test, y_train, y_test = train_test_split(X, y, test_size=0.2, random_state=42)\n",
    "\n",
    "# scale the data\n",
    "scaler = StandardScaler()\n",
    "X_train = scaler.fit_transform(X_train)\n",
    "X_test = scaler.transform(X_test)"
   ]
  },
  {
   "cell_type": "code",
   "execution_count": 37,
   "metadata": {},
   "outputs": [],
   "source": [
    "# Create a neural network architecture \n",
    "model = tf.keras.models.Sequential([\n",
    "    tf.keras.layers.InputLayer(input_shape=X_train.shape[1:]), # input layer without any activation function\n",
    "    tf.keras.layers.Dense(32, activation='relu'), # hidden layer with 16 neurons and relu activation function\n",
    "    tf.keras.layers.Dense(16, activation='relu'), # hidden layer with 8 neurons and relu activation function\n",
    "    tf.keras.layers.Dense(1), # output layer\n",
    "])"
   ]
  },
  {
   "cell_type": "code",
   "execution_count": 38,
   "metadata": {},
   "outputs": [],
   "source": [
    "# compiling the  model \n",
    "model.compile(optimizer='adam', loss='mean_squared_error')"
   ]
  },
  {
   "cell_type": "code",
   "execution_count": 11,
   "metadata": {},
   "outputs": [
    {
     "name": "stdout",
     "output_type": "stream",
     "text": [
      "Epoch 1/4\n",
      "1079/1079 [==============================] - 2s 2ms/step - loss: 9444895.0000 - val_loss: 9042573.0000\n",
      "Epoch 2/4\n",
      "1079/1079 [==============================] - 2s 1ms/step - loss: 8450782.0000 - val_loss: 8025507.0000\n",
      "Epoch 3/4\n",
      "1079/1079 [==============================] - 2s 1ms/step - loss: 7477620.5000 - val_loss: 7057132.5000\n",
      "Epoch 4/4\n",
      "1079/1079 [==============================] - 2s 1ms/step - loss: 6562009.0000 - val_loss: 6159131.5000\n"
     ]
    },
    {
     "data": {
      "text/plain": [
       "<keras.callbacks.History at 0x292de8b9dd0>"
      ]
     },
     "execution_count": 11,
     "metadata": {},
     "output_type": "execute_result"
    }
   ],
   "source": [
    "# train the model\n",
    "model.fit(X_train, y_train, epochs=4, verbose=1, validation_split=0.2)"
   ]
  },
  {
   "cell_type": "code",
   "execution_count": 13,
   "metadata": {},
   "outputs": [
    {
     "name": "stdout",
     "output_type": "stream",
     "text": [
      "338/338 [==============================] - 0s 925us/step - loss: 6047360.5000\n",
      "Test loss: 6047360.5\n",
      "338/338 [==============================] - 0s 889us/step - loss: 6047360.5000\n"
     ]
    }
   ],
   "source": [
    "# Test loss of the model \n",
    "loss=model.evaluate(X_test, y_test)\n",
    "print(f'Test loss: {loss}')\n",
    "\n",
    "# Validation Loss of the model\n",
    "loss=model.evaluate(X_test, y_test)"
   ]
  },
  {
   "attachments": {},
   "cell_type": "markdown",
   "metadata": {},
   "source": [
    "Question: How to find the best number of epoch?"
   ]
  },
  {
   "cell_type": "code",
   "execution_count": 18,
   "metadata": {},
   "outputs": [
    {
     "name": "stdout",
     "output_type": "stream",
     "text": [
      "Epoch 1/10\n",
      "1079/1079 [==============================] - 2s 1ms/step - loss: 2363892.0000 - val_loss: 2155442.7500\n",
      "Epoch 2/10\n",
      "1079/1079 [==============================] - 1s 1ms/step - loss: 2241609.2500 - val_loss: 2025871.6250\n",
      "Epoch 3/10\n",
      "1079/1079 [==============================] - 1s 1ms/step - loss: 2136918.7500 - val_loss: 1928481.2500\n",
      "Epoch 4/10\n",
      "1079/1079 [==============================] - 1s 1ms/step - loss: 2056598.7500 - val_loss: 1846926.2500\n",
      "Epoch 5/10\n",
      "1079/1079 [==============================] - 2s 1ms/step - loss: 1990432.3750 - val_loss: 1783535.7500\n",
      "Epoch 6/10\n",
      "1079/1079 [==============================] - 2s 1ms/step - loss: 1935106.6250 - val_loss: 1724355.0000\n",
      "Epoch 7/10\n",
      "1079/1079 [==============================] - 1s 1ms/step - loss: 1891061.0000 - val_loss: 1682644.0000\n",
      "Epoch 8/10\n",
      "1079/1079 [==============================] - 1s 1ms/step - loss: 1855799.0000 - val_loss: 1642819.6250\n",
      "Epoch 9/10\n",
      "1079/1079 [==============================] - 1s 1ms/step - loss: 1825602.7500 - val_loss: 1609325.6250\n",
      "Epoch 10/10\n",
      "1079/1079 [==============================] - 2s 1ms/step - loss: 1799795.0000 - val_loss: 1582559.6250\n"
     ]
    },
    {
     "data": {
      "text/plain": [
       "<keras.callbacks.History at 0x292ded0e610>"
      ]
     },
     "execution_count": 18,
     "metadata": {},
     "output_type": "execute_result"
    }
   ],
   "source": [
    "from tensorflow.keras.callbacks import EarlyStopping\n",
    "\n",
    "early_stopping = EarlyStopping(\n",
    "    monitor='val_loss', # this command is used to monitor the validation loss\n",
    "    patience=2, # number of epochs to wait before stopping the training\n",
    "    restore_best_weights=True # this command is used to restore the best weights of the model\n",
    "    )\n",
    "\n",
    "model.fit(\n",
    "    X_train, y_train,\n",
    "    epochs=10, # maximum number of epochs to train the model\n",
    "    validation_split=0.2, # this command is used to split the data into train and validation set\n",
    "    callbacks=[early_stopping], # This command is used to stop the training when the validation loss doesn't improve\n",
    ")"
   ]
  },
  {
   "cell_type": "code",
   "execution_count": 19,
   "metadata": {},
   "outputs": [
    {
     "name": "stdout",
     "output_type": "stream",
     "text": [
      "Trained for 10 epochs\n"
     ]
    }
   ],
   "source": [
    "print(f'Trained for {len(model.history.epoch)} epochs')"
   ]
  },
  {
   "cell_type": "code",
   "execution_count": 39,
   "metadata": {},
   "outputs": [
    {
     "name": "stdout",
     "output_type": "stream",
     "text": [
      "Epoch 1/5\n",
      "1079/1079 [==============================] - 2s 1ms/step - loss: 18726326.0000 - val_loss: 14964491.0000\n",
      "Epoch 2/5\n",
      "1079/1079 [==============================] - 2s 1ms/step - loss: 14268946.0000 - val_loss: 13801884.0000\n",
      "Epoch 3/5\n",
      "1079/1079 [==============================] - 2s 1ms/step - loss: 12220561.0000 - val_loss: 10171282.0000\n",
      "Epoch 4/5\n",
      "1079/1079 [==============================] - 2s 1ms/step - loss: 6783709.5000 - val_loss: 4179107.7500\n",
      "Epoch 5/5\n",
      "1079/1079 [==============================] - 2s 2ms/step - loss: 3153307.2500 - val_loss: 2309416.7500\n"
     ]
    }
   ],
   "source": [
    "history= model.fit(\n",
    "    X_train, y_train,\n",
    "    epochs=5, # maximum number of epochs to train the model\n",
    "    validation_split=0.2, # this command is used to split the data into train and validation set\n",
    "    callbacks=[early_stopping], # This command is used to stop the training when the validation loss doesn't improve\n",
    ")"
   ]
  },
  {
   "cell_type": "code",
   "execution_count": 40,
   "metadata": {},
   "outputs": [
    {
     "data": {
      "image/png": "[encoded data removed]",
      "text/plain": [
       "<Figure size 640x480 with 1 Axes>"
      ]
     },
     "metadata": {},
     "output_type": "display_data"
    }
   ],
   "source": [
    "# Plot the training and validation loss\n",
    "plt.plot(history.history['loss'])\n",
    "plt.plot(history.history['val_loss'])\n",
    "plt.title('model loss')\n",
    "plt.ylabel('loss')\n",
    "plt.xlabel('epoch')\n",
    "plt.legend(['train', 'validation'], loc='upper left')\n",
    "plt.show()"
   ]
  }
 ],
 "metadata": {
  "kernelspec": {
   "display_name": "tf_env",
   "language": "python",
   "name": "python3"
  },
  "language_info": {
   "codemirror_mode": {
    "name": "ipython",
    "version": 3
   },
   "file_extension": ".py",
   "mimetype": "text/x-python",
   "name": "python",
   "nbconvert_exporter": "python",
   "pygments_lexer": "ipython3",
   "version": "3.11.3"
  },
  "orig_nbformat": 4
 },
 "nbformat": 4,
 "nbformat_minor": 2
}
