{
 "cells": [
  {
   "cell_type": "markdown",
   "metadata": {},
   "source": [
    "conda create --name pytorch_gpu python=3.8\n",
    "conda activate pytorch_gpu\n",
    "\n",
    "conda install pytorch torchvision torchaudio cudatoolkit=11.1 -c pytorch -c conda-forge\n",
    "python -c\"import torch; print(torch.cuda.is_available())\""
   ]
  },
  {
   "cell_type": "markdown",
   "metadata": {},
   "source": [
    "# Binary Classification"
   ]
  },
  {
   "cell_type": "code",
   "execution_count": null,
   "metadata": {},
   "outputs": [],
   "source": [
    "# import necessary libraries \n",
    "import torch \n",
    "import math \n",
    "print(torch.backends.mps.is_available())\n",
    "print(torch.backends.mps.is_built())"
   ]
  },
  {
   "cell_type": "code",
   "execution_count": null,
   "metadata": {},
   "outputs": [],
   "source": [
    "# Linear regression in torch using tips dataset \n",
    "import torch \n",
    "import torch.optim as optim\n",
    "import seaborn as sns \n",
    "\n",
    "tips=sns.load_dataset('tips')\n",
    "\n",
    "# prepare the data \n",
    "X=torch.tensor(tips['total_bill'].values, dtype=torch.float32).view(-1, 1) # input data \n",
    "y=torch.tensor(tips['tip'].values, dtype=torch.float32).view(-1, 1) # output data\n",
    "\n",
    "# define the model\n",
    "model= torch.nn.Linear(1, 1) # create a linear regression model with one input and one output\n",
    "\n",
    "# define the loss function and optimizer \n",
    "criterion = torch.nn.MSELoss() # mean squared error loss function\n",
    "\n",
    "# define the optimizer\n",
    "optimizer = torch.optim.SGD(model.parameters(), lr=0.01) # stochastic gradient descent optimizer with learning rate of 0.01\n",
    "\n",
    "# train the model \n",
    "for epoch in range(100):\n",
    "    optimizer.zero_grad() # zero the gradients\n",
    "    output=model(X) # forward pass \n",
    "    loss = criterion(output, y) # calculate the loss\n",
    "    loss.backward() # backward pass\n",
    "    optimizer.step() # update the weights\n",
    "    \n",
    "    print('Final Loss:', loss.item()) # print the final loss after training the model"
   ]
  },
  {
   "cell_type": "markdown",
   "metadata": {},
   "source": [
    "# MultiClass Classification"
   ]
  },
  {
   "cell_type": "code",
   "execution_count": null,
   "metadata": {},
   "outputs": [],
   "source": [
    "# import necessary libraries \n",
    "import pandas as pd \n",
    "import torch \n",
    "import torch.nn as nn \n",
    "import torch.optim as optim \n",
    "from sklearn.model_selection import train_test_split\n",
    "from sklearn.preprocessing import LabelEncoder, StandardScaler, OneHotEncoder\n",
    "\n",
    "# Load the titanic dataset \n",
    "df= sns.load_dataset('titanic').dropna()\n",
    "\n",
    "# Data preprocessing \n",
    "df['sex']= LabelEncoder().fit_transform(df['sex']) # encode sex column as 0 0r 1 \n",
    "df['alone']= LabelEncoder().fit_transform(df['alone']) # encode alone column as 0 or 1 \n",
    "\n",
    "# one-hot encode the 'class' column \n",
    "enc= OneHotEncoder()\n",
    "enc.fit(df[['class']])\n",
    "onehot=enc.transform(df[['class']]).toarray()\n",
    "df[['class1', 'class2', 'class3']]=onehot\n",
    "\n",
    "# Features and target \n",
    "X= df[['sex', 'age', 'fare', 'alone', 'class1,', 'class2', 'class3']]# select features \n",
    "y= df['pclass'] # select target \n",
    "\n",
    "# scaling \n",
    "scaler= StandardScaler() # create a standard scalar object \n",
    "X= scaler.fit_transform(X) # scale the features\n",
    "\n",
    "# convert to tensor \n",
    "X= torch.tensor(X, dtype=torch.float32) # convert features to tensor\n",
    "y= torch.tensor(y, dtype=torch.long) # convert target to tensor\n",
    "\n",
    "# split the data\n",
    "X_train, X_test, y_train, y_test= train_test_split(X, y, test_size=0.2, random_state=42)\n",
    "\n",
    "# Network definition \n",
    "class Net(nn.Module):\n",
    "    def__init__(self):\n",
    "        super(Net, self).__init__()\n",
    "        self.fc1= nn.Linear(7, 64) # create a fully connected layer with 7 input features and 64 output features\n",
    "        self.fc2= nn.Linear(64, 64) # create a fully connected layer with 64 input features and 64 output features\n",
    "        self.fc3= nn.Linear(64, 4) # create a fully connected layer with 64 input features and 4 output features\n",
    "    \n",
    "    def forward(self, x):\n",
    "        x= torch.relu(self.fc1(x)) # apply ReLu activation function to the output of the first fully connected layer \n",
    "        x= torch.relu(self.fc2(x)) # apply ReLU activation function to the output of the second fully connected layer \n",
    "        x= self.fc3(x) # apply no activation function to the output of the output of the third fully connected layer \n",
    "        return x\n",
    "# Model, Loss, and Optimizer \n",
    "model=Net()# create an instance of the Net class\n",
    "criterion=nn.CrossEntropyLoss() # create a cross-entropy loss function \n",
    "optimizer= optim.Adam(model.parameters(), lr=0.01) # create an adam optimizer with learning rate of 0.01\n",
    "\n",
    "# Training the loop \n",
    "for epoch in range(100):\n",
    "    optimizer.zero_grad() # zero the gradients\n",
    "    output=model(X) # forward pass \n",
    "    loss = criterion(output, y) # calculate the loss\n",
    "    loss.backward() # backward pass\n",
    "    optimizer.step() # update the weights\n",
    "\n",
    "# Evaluate the model \n",
    "model.eval() # set the model in evaluation mode\n",
    "with torch.no_grad():\n",
    "    output= model(X_test) # forward pass on the test set\n",
    "    predicted=torch.argmax(output, dim=1) # get the predicted class for each example\n",
    "    accuracy= (predicted==y_test).float().mean() # calculate the accuracy\n",
    "\n",
    "    print('Accuracy:', accuracy.item()) # print the accuracy\n",
    "\n",
    "# predict some examples\n",
    "model.eval()# set the model to evaluation mode\n",
    "with torch.no_grad():\n",
    "    output=model(X_test[:10]) # forward pass on the first 10 examples in the test set \n",
    "    predicted=torch.argmax(output, dim=1) # get the predicted class for each example\n",
    "    print('predictions:', predicted) # print the predictions\n",
    "\n",
    "# print the actual values \n",
    "print('Actual:', y_test[:10])\n"
   ]
  }
 ],
 "metadata": {
  "kernelspec": {
   "display_name": "tf_env",
   "language": "python",
   "name": "python3"
  },
  "language_info": {
   "codemirror_mode": {
    "name": "ipython",
    "version": 3
   },
   "file_extension": ".py",
   "mimetype": "text/x-python",
   "name": "python",
   "nbconvert_exporter": "python",
   "pygments_lexer": "ipython3",
   "version": "3.11.3"
  },
  "orig_nbformat": 4
 },
 "nbformat": 4,
 "nbformat_minor": 2
}
