{
 "cells": [
  {
   "cell_type": "code",
   "execution_count": 2,
   "metadata": {},
   "outputs": [
    {
     "name": "stdout",
     "output_type": "stream",
     "text": [
      "Epoch 1/10\n",
      "7/7 [==============================] - 1s 2ms/step - loss: 10.1475 - accuracy: 8.5470e-04\n",
      "Epoch 2/10\n",
      "7/7 [==============================] - 0s 2ms/step - loss: 9.5210 - accuracy: 0.0026 \n",
      "Epoch 3/10\n",
      "7/7 [==============================] - 0s 3ms/step - loss: 9.0372 - accuracy: 0.0026 \n",
      "Epoch 4/10\n",
      "7/7 [==============================] - 0s 3ms/step - loss: 8.7004 - accuracy: 0.0026\n",
      "Epoch 5/10\n",
      "7/7 [==============================] - 0s 2ms/step - loss: 8.5071 - accuracy: 0.0026\n",
      "Epoch 6/10\n",
      "7/7 [==============================] - 0s 2ms/step - loss: 8.3726 - accuracy: 0.0026 \n",
      "Epoch 7/10\n",
      "7/7 [==============================] - 0s 3ms/step - loss: 8.2166 - accuracy: 0.0043\n",
      "Epoch 8/10\n",
      "7/7 [==============================] - 0s 3ms/step - loss: 8.0782 - accuracy: 0.0043\n",
      "Epoch 9/10\n",
      "7/7 [==============================] - 0s 2ms/step - loss: 7.9350 - accuracy: 0.0043\n",
      "Epoch 10/10\n",
      "7/7 [==============================] - 0s 3ms/step - loss: 7.7845 - accuracy: 0.0043\n"
     ]
    },
    {
     "data": {
      "text/plain": [
       "<keras.callbacks.History at 0x1de12bc4990>"
      ]
     },
     "execution_count": 2,
     "metadata": {},
     "output_type": "execute_result"
    }
   ],
   "source": [
    "# Import libraries \n",
    "import tensorflow as tf \n",
    "from tensorflow import keras\n",
    "from keras import layers\n",
    "\n",
    "from sklearn.preprocessing import LabelEncoder\n",
    "from sklearn.model_selection import train_test_split\n",
    "\n",
    "import pandas as pd\n",
    "import numpy as np\n",
    "import matplotlib.pyplot as plt\n",
    "import seaborn as sns\n",
    "\n",
    "\n",
    "# Load the tips dataset \n",
    "tips = sns.load_dataset('tips')\n",
    "\n",
    "# Preprocessing the data\n",
    "le=LabelEncoder()\n",
    "tips['sex']=le.fit_transform(tips['sex'])\n",
    "tips['smoker']=le.fit_transform(tips['smoker'])\n",
    "tips['day']=le.fit_transform(tips['day'])\n",
    "tips['time']=le.fit_transform(tips['time'])\n",
    "\n",
    "# Split the data\n",
    "\n",
    "X=tips.drop('tip',axis=1)\n",
    "y=tips['tip']\n",
    "\n",
    "# Split the data into traing and testing data  \n",
    "X_train,X_test,y_train,y_test=train_test_split(X,y,test_size=0.2,random_state=42)\n",
    "\n",
    "# Create a model \n",
    "model=tf.keras.Sequential([\n",
    "    tf.keras.layers.Dense(32, activation='relu', input_shape=(6,1)), # input layer \n",
    "    tf.keras.layers.Dense(16, activation='relu'), # hidden layer\n",
    "    tf.keras.layers.Dense(1) # output layer\n",
    "])\n",
    "# Complete the model\n",
    "model.compile (\n",
    "    optimizer='adam', loss='mean_squared_error', metrics=['accuracy']\n",
    ")\n",
    "# train the model \n",
    "model.fit(X_train,y_train,epochs=10)"
   ]
  }
 ],
 "metadata": {
  "kernelspec": {
   "display_name": "tf_env",
   "language": "python",
   "name": "python3"
  },
  "language_info": {
   "codemirror_mode": {
    "name": "ipython",
    "version": 3
   },
   "file_extension": ".py",
   "mimetype": "text/x-python",
   "name": "python",
   "nbconvert_exporter": "python",
   "pygments_lexer": "ipython3",
   "version": "3.11.3"
  },
  "orig_nbformat": 4
 },
 "nbformat": 4,
 "nbformat_minor": 2
}
